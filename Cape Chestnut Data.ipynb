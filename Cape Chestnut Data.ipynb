{
 "cells": [
  {
   "cell_type": "code",
   "execution_count": 4,
   "id": "4c5a18c1",
   "metadata": {},
   "outputs": [],
   "source": [
    "# # Loaded variable 'df' from URI: d:\\Projects\\Cape Chestnut School List (1).xlsx\n",
    "# import pandas as pd\n",
    "# df = pd.read_excel(r'd:\\Projects\\Cape Chestnut School List (1).xlsx')"
   ]
  },
  {
   "cell_type": "code",
   "execution_count": 5,
   "id": "807727c4",
   "metadata": {},
   "outputs": [
    {
     "data": {
      "application/vnd.microsoft.datawrangler.viewer.v0+json": {
       "columns": [
        {
         "name": "index",
         "rawType": "int64",
         "type": "integer"
        },
        {
         "name": "PUPILS_NAME",
         "rawType": "object",
         "type": "string"
        },
        {
         "name": "PUPILS_GENDER",
         "rawType": "object",
         "type": "string"
        },
        {
         "name": "ADM",
         "rawType": "float64",
         "type": "float"
        },
        {
         "name": "PARENT_S_NAME",
         "rawType": "object",
         "type": "string"
        },
        {
         "name": "PARENT_S_GENDER",
         "rawType": "object",
         "type": "string"
        },
        {
         "name": "PARENT_S_PHONE_NUMBER",
         "rawType": "float64",
         "type": "float"
        },
        {
         "name": "D_O_B",
         "rawType": "object",
         "type": "unknown"
        },
        {
         "name": "DATE_OF_ADMISSION",
         "rawType": "object",
         "type": "string"
        },
        {
         "name": "TERM_1_BALANCE",
         "rawType": "float64",
         "type": "float"
        }
       ],
       "conversionMethod": "pd.DataFrame",
       "ref": "bbd0b53a-6e64-4e4a-acaf-446374ba9eca",
       "rows": [
        [
         "0",
         "TIFFANY KWAMBOKA OMBATI",
         "FEMALE",
         "196.0",
         "ESTHER NYABOKE ",
         "F",
         "716583920.0",
         null,
         "06/01/2025",
         "0.0"
        ],
        [
         "1",
         "SHANICE SINONGE MINAYO",
         "FEMALE",
         "201.0",
         "SARAPHINE KHAHOMBI",
         "F",
         "790907564.0",
         "17/11/2021",
         "06/01/2025",
         "0.0"
        ],
        [
         "2",
         "JAMES MATU MATHENGE",
         "MALE",
         "197.0",
         "LUCY WANJIRU",
         "F",
         "796092771.0",
         "27/10/2021",
         "06/01/2025",
         "0.0"
        ],
        [
         "3",
         "EZRA NYAMWEYA ",
         "MALE",
         "210.0",
         "EZEKIEL NYAMWEA",
         "M",
         "724088860.0",
         "22/11/2022",
         "08/01/2025",
         "6000.0"
        ],
        [
         "4",
         "SHANICE WANJIKU MWIHIA",
         "FEMALE",
         "213.0",
         "MARTIN MWIHIA",
         "M",
         "708178119.0",
         "31/08/2021",
         "13/01/2025",
         "5940.0"
        ]
       ],
       "shape": {
        "columns": 9,
        "rows": 5
       }
      },
      "text/html": [
       "<div>\n",
       "<style scoped>\n",
       "    .dataframe tbody tr th:only-of-type {\n",
       "        vertical-align: middle;\n",
       "    }\n",
       "\n",
       "    .dataframe tbody tr th {\n",
       "        vertical-align: top;\n",
       "    }\n",
       "\n",
       "    .dataframe thead th {\n",
       "        text-align: right;\n",
       "    }\n",
       "</style>\n",
       "<table border=\"1\" class=\"dataframe\">\n",
       "  <thead>\n",
       "    <tr style=\"text-align: right;\">\n",
       "      <th></th>\n",
       "      <th>PUPILS_NAME</th>\n",
       "      <th>PUPILS_GENDER</th>\n",
       "      <th>ADM</th>\n",
       "      <th>PARENT_S_NAME</th>\n",
       "      <th>PARENT_S_GENDER</th>\n",
       "      <th>PARENT_S_PHONE_NUMBER</th>\n",
       "      <th>D_O_B</th>\n",
       "      <th>DATE_OF_ADMISSION</th>\n",
       "      <th>TERM_1_BALANCE</th>\n",
       "    </tr>\n",
       "  </thead>\n",
       "  <tbody>\n",
       "    <tr>\n",
       "      <th>0</th>\n",
       "      <td>TIFFANY KWAMBOKA OMBATI</td>\n",
       "      <td>FEMALE</td>\n",
       "      <td>196.0</td>\n",
       "      <td>ESTHER NYABOKE</td>\n",
       "      <td>F</td>\n",
       "      <td>716583920.0</td>\n",
       "      <td>None</td>\n",
       "      <td>06/01/2025</td>\n",
       "      <td>0.0</td>\n",
       "    </tr>\n",
       "    <tr>\n",
       "      <th>1</th>\n",
       "      <td>SHANICE SINONGE MINAYO</td>\n",
       "      <td>FEMALE</td>\n",
       "      <td>201.0</td>\n",
       "      <td>SARAPHINE KHAHOMBI</td>\n",
       "      <td>F</td>\n",
       "      <td>790907564.0</td>\n",
       "      <td>17/11/2021</td>\n",
       "      <td>06/01/2025</td>\n",
       "      <td>0.0</td>\n",
       "    </tr>\n",
       "    <tr>\n",
       "      <th>2</th>\n",
       "      <td>JAMES MATU MATHENGE</td>\n",
       "      <td>MALE</td>\n",
       "      <td>197.0</td>\n",
       "      <td>LUCY WANJIRU</td>\n",
       "      <td>F</td>\n",
       "      <td>796092771.0</td>\n",
       "      <td>27/10/2021</td>\n",
       "      <td>06/01/2025</td>\n",
       "      <td>0.0</td>\n",
       "    </tr>\n",
       "    <tr>\n",
       "      <th>3</th>\n",
       "      <td>EZRA NYAMWEYA</td>\n",
       "      <td>MALE</td>\n",
       "      <td>210.0</td>\n",
       "      <td>EZEKIEL NYAMWEA</td>\n",
       "      <td>M</td>\n",
       "      <td>724088860.0</td>\n",
       "      <td>22/11/2022</td>\n",
       "      <td>08/01/2025</td>\n",
       "      <td>6000.0</td>\n",
       "    </tr>\n",
       "    <tr>\n",
       "      <th>4</th>\n",
       "      <td>SHANICE WANJIKU MWIHIA</td>\n",
       "      <td>FEMALE</td>\n",
       "      <td>213.0</td>\n",
       "      <td>MARTIN MWIHIA</td>\n",
       "      <td>M</td>\n",
       "      <td>708178119.0</td>\n",
       "      <td>31/08/2021</td>\n",
       "      <td>13/01/2025</td>\n",
       "      <td>5940.0</td>\n",
       "    </tr>\n",
       "  </tbody>\n",
       "</table>\n",
       "</div>"
      ],
      "text/plain": [
       "               PUPILS_NAME PUPILS_GENDER    ADM       PARENT_S_NAME  \\\n",
       "0  TIFFANY KWAMBOKA OMBATI        FEMALE  196.0     ESTHER NYABOKE    \n",
       "1   SHANICE SINONGE MINAYO        FEMALE  201.0  SARAPHINE KHAHOMBI   \n",
       "2      JAMES MATU MATHENGE          MALE  197.0        LUCY WANJIRU   \n",
       "3           EZRA NYAMWEYA           MALE  210.0     EZEKIEL NYAMWEA   \n",
       "4   SHANICE WANJIKU MWIHIA        FEMALE  213.0       MARTIN MWIHIA   \n",
       "\n",
       "  PARENT_S_GENDER  PARENT_S_PHONE_NUMBER       D_O_B DATE_OF_ADMISSION  \\\n",
       "0               F            716583920.0        None        06/01/2025   \n",
       "1               F            790907564.0  17/11/2021        06/01/2025   \n",
       "2               F            796092771.0  27/10/2021        06/01/2025   \n",
       "3               M            724088860.0  22/11/2022        08/01/2025   \n",
       "4               M            708178119.0  31/08/2021        13/01/2025   \n",
       "\n",
       "   TERM_1_BALANCE  \n",
       "0             0.0  \n",
       "1             0.0  \n",
       "2             0.0  \n",
       "3          6000.0  \n",
       "4          5940.0  "
      ]
     },
     "execution_count": 5,
     "metadata": {},
     "output_type": "execute_result"
    }
   ],
   "source": [
    "from sqlalchemy import create_engine\n",
    "import pandas as pd\n",
    "\n",
    "# Create a connection to the MySQL database\n",
    "engine = create_engine(\"mysql+mysqlconnector://root:@localhost/cape chestnut\")\n",
    "\n",
    "# Load a table into a pandas DataFrame\n",
    "df = pd.read_sql(\"SELECT * FROM cape_chestnut_list\", engine)\n",
    "\n",
    "df.head()\n"
   ]
  },
  {
   "cell_type": "code",
   "execution_count": null,
   "id": "8e6743c7",
   "metadata": {},
   "outputs": [],
   "source": [
    "# import pandas as pd\n",
    "\n",
    "# # Reload the original data\n",
    "# original_df = pd.read_excel(r'd:\\\\Projects\\\\Cape Chestnut School List (1).xlsx')\n",
    "\n",
    "# # Add the 'D.O.B' column back to the current DataFrame\n",
    "# df['D.O.B'] = original_df['D.O.B']"
   ]
  },
  {
   "cell_type": "code",
   "execution_count": 6,
   "id": "74c70181",
   "metadata": {},
   "outputs": [
    {
     "name": "stdout",
     "output_type": "stream",
     "text": [
      "Index(['PUPILS_NAME', 'PUPILS_GENDER', 'ADM', 'PARENT_S_NAME',\n",
      "       'PARENT_S_GENDER', 'PARENT_S_PHONE_NUMBER', 'D_O_B',\n",
      "       'DATE_OF_ADMISSION', 'TERM_1_BALANCE'],\n",
      "      dtype='object')\n"
     ]
    }
   ],
   "source": [
    "print(df.columns)"
   ]
  },
  {
   "cell_type": "code",
   "execution_count": 15,
   "id": "4748dcba",
   "metadata": {},
   "outputs": [
    {
     "data": {
      "image/png": "[encoded data removed]",
      "text/plain": [
       "<Figure size 640x480 with 1 Axes>"
      ]
     },
     "metadata": {},
     "output_type": "display_data"
    }
   ],
   "source": [
    "import matplotlib.pyplot as plt\n",
    "# Count the number of boys and girls\n",
    "gender_counts = df['PUPILS_GENDER'].value_counts()\n",
    "# Create a bar chart\n",
    "gender_counts.plot(kind='bar', color=['red', 'green'])\n",
    "plt.title('Number of Girls vs Boys Students')\n",
    "plt.xlabel('Gender')\n",
    "plt.ylabel('Count')\n",
    "plt.xticks(rotation=0)\n",
    "plt.show()\n"
   ]
  },
  {
   "cell_type": "code",
   "execution_count": 17,
   "id": "f63b1553",
   "metadata": {},
   "outputs": [
    {
     "name": "stdout",
     "output_type": "stream",
     "text": [
      "['PUPILS_NAME', 'PUPILS_GENDER', 'ADM', 'PARENT_S_NAME', 'PARENT_S_GENDER', 'PARENT_S_PHONE_NUMBER', 'D_O_B', 'DATE_OF_ADMISSION', 'TERM_1_BALANCE']\n"
     ]
    }
   ],
   "source": [
    "print(df.columns.tolist())\n"
   ]
  },
  {
   "cell_type": "code",
   "execution_count": 18,
   "id": "976d9ca6",
   "metadata": {},
   "outputs": [
    {
     "name": "stdout",
     "output_type": "stream",
     "text": [
      "['PUPILS_NAME', 'PUPILS_GENDER', 'ADM', 'PARENT_S_NAME', 'PARENT_S_GENDER', 'PARENT_S_PHONE_NUMBER', 'D_O_B', 'DATE_OF_ADMISSION', 'TERM_1_BALANCE']\n"
     ]
    }
   ],
   "source": [
    "print(df.columns.tolist())"
   ]
  },
  {
   "cell_type": "code",
   "execution_count": null,
   "id": "6b92a7d5",
   "metadata": {},
   "outputs": [
    {
     "data": {
      "text/plain": [
       "0       NaN\n",
       "1       4.0\n",
       "2       4.0\n",
       "3       3.0\n",
       "4       4.0\n",
       "       ... \n",
       "146     1.0\n",
       "147     NaN\n",
       "148    11.0\n",
       "149    12.0\n",
       "150     NaN\n",
       "Name: Age, Length: 151, dtype: float64"
      ]
     },
     "execution_count": 20,
     "metadata": {},
     "output_type": "execute_result"
    }
   ],
   "source": [
    "# To add columns to the dataframe\n",
    "df['D_O_B'] = pd.to_datetime(df['D_O_B'], format='%d/%m/%Y', errors='coerce')\n",
    "df['Age'] = 2025 - df['D_O_B'].dt.year                                        \n",
    "df['Age']"
   ]
  },
  {
   "cell_type": "code",
   "execution_count": 21,
   "id": "20b383a8",
   "metadata": {},
   "outputs": [
    {
     "name": "stdout",
     "output_type": "stream",
     "text": [
      "['PUPILS_NAME', 'PUPILS_GENDER', 'ADM', 'PARENT_S_NAME', 'PARENT_S_GENDER', 'PARENT_S_PHONE_NUMBER', 'D_O_B', 'DATE_OF_ADMISSION', 'TERM_1_BALANCE', 'Age']\n"
     ]
    }
   ],
   "source": [
    "print(df.columns.tolist())"
   ]
  },
  {
   "cell_type": "code",
   "execution_count": 23,
   "id": "2f07b069",
   "metadata": {},
   "outputs": [
    {
     "name": "stdout",
     "output_type": "stream",
     "text": [
      "['PUPILS_NAME', 'PUPILS_GENDER', 'ADM', 'PARENT_S_NAME', 'PARENT_S_GENDER', 'PARENT_S_PHONE_NUMBER', 'D_O_B', 'DATE_OF_ADMISSION', 'TERM_1_BALANCE', 'Age']\n"
     ]
    }
   ],
   "source": [
    "print(df.columns.tolist())"
   ]
  },
  {
   "cell_type": "code",
   "execution_count": 25,
   "id": "f58a073d",
   "metadata": {},
   "outputs": [
    {
     "name": "stdout",
     "output_type": "stream",
     "text": [
      "0            NaT\n",
      "1     2021-11-17\n",
      "2     2021-10-27\n",
      "3     2022-11-22\n",
      "4     2021-08-31\n",
      "         ...    \n",
      "146   2024-01-15\n",
      "147          NaT\n",
      "148   2014-01-21\n",
      "149   2013-12-05\n",
      "150          NaT\n",
      "Name: D_O_B, Length: 151, dtype: datetime64[ns]\n"
     ]
    }
   ],
   "source": [
    "print(df['D_O_B'])"
   ]
  },
  {
   "cell_type": "code",
   "execution_count": 32,
   "id": "bc44f348",
   "metadata": {},
   "outputs": [
    {
     "name": "stdout",
     "output_type": "stream",
     "text": [
      "                  PUPILS_NAME PUPILS_GENDER\n",
      "1      SHANICE SINONGE MINAYO        FEMALE\n",
      "2         JAMES MATU MATHENGE          MALE\n",
      "3              EZRA NYAMWEYA           MALE\n",
      "4      SHANICE WANJIKU MWIHIA        FEMALE\n",
      "5           BRILLIANT MAYIANA        FEMALE\n",
      "..                        ...           ...\n",
      "144           BLESSING WAIGWE        FEMALE\n",
      "145         ROY NGUMI MWENDWA          MALE\n",
      "146              NAOMI WAMBUI        FEMALE\n",
      "148     SAMUEL NDIRANGU MAINA          MALE\n",
      "149  LETICIA WAIRIMU NG'ANG'A        FEMALE\n",
      "\n",
      "[117 rows x 2 columns]\n"
     ]
    }
   ],
   "source": [
    "print(df[['PUPILS_NAME', 'PUPILS_GENDER']])"
   ]
  },
  {
   "cell_type": "code",
   "execution_count": null,
   "id": "4bea91bd",
   "metadata": {},
   "outputs": [
    {
     "name": "stdout",
     "output_type": "stream",
     "text": [
      "                 PUPILS_NAME PUPILS_GENDER    ADM    PARENT_S_NAME  \\\n",
      "0    TIFFANY KWAMBOKA OMBATI        FEMALE  196.0  ESTHER NYABOKE    \n",
      "9                       None          None    NaN             None   \n",
      "10                      None          None    NaN             None   \n",
      "11                       PP1          None    NaN             None   \n",
      "17               JOHN THIAKA          MALE  173.0   JOSPHAT KINYUA   \n",
      "23           JACKLINE WAMBUI        FEMALE  185.0      JAMES MBURU   \n",
      "31                      None          None    NaN             None   \n",
      "32                      None          None    NaN             None   \n",
      "33                       PP2          None    NaN             None   \n",
      "41              JIAN MWANIKI          MALE  166.0   ESTHER MWANIKI   \n",
      "48              GIAN MWANIKI          MALE  166.0   ESTHER MWANIKI   \n",
      "49             KAREN GATHONI        FEMALE  155.0   KEZIAH WANJIKU   \n",
      "60                      None          None    NaN             None   \n",
      "61                   GRADE 1          None    NaN             None   \n",
      "73        AVIEL NEEMA ANGAYA        FEMALE  216.0  FREDRICK KAVITA   \n",
      "74                      None          None    NaN             None   \n",
      "75                      None          None    NaN             None   \n",
      "76                   GRADE 2          None    NaN             None   \n",
      "82              SIMON LENANA          MALE   73.0  GABRIEL NJOROGE   \n",
      "93                      None          None    NaN             None   \n",
      "94                   GRADE 3          None    NaN             None   \n",
      "110                     None          None    NaN             None   \n",
      "111                  GRADE 4          None    NaN             None   \n",
      "115            JOANNA NERIAH        FEMALE   52.0    PETER MWANZIA   \n",
      "116              JUDAH KURIA          MALE   44.0      PETER KURIA   \n",
      "124                     None          None    NaN             None   \n",
      "125                  GRADE 5          None    NaN             None   \n",
      "128             ANORLD MBURU          MALE   45.0      DAVID MBURU   \n",
      "134                     None          None    NaN             None   \n",
      "135                  GRADE 6          None    NaN             None   \n",
      "142           FRANCIS KIARIE          MALE   76.0    ELIUD NJOROGE   \n",
      "143              GRACE NDANU        FEMALE   53.0    PETER MWANZIA   \n",
      "147   CLAIRE WANGARI NDUNG’U        FEMALE  126.0   PHILIP NDUNG'U   \n",
      "150                     None          None    NaN             None   \n",
      "\n",
      "    PARENT_S_GENDER  PARENT_S_PHONE_NUMBER D_O_B DATE_OF_ADMISSION  \\\n",
      "0                 F            716583920.0   NaT        06/01/2025   \n",
      "9              None                    NaN   NaT              None   \n",
      "10             None                    NaN   NaT              None   \n",
      "11             None                    NaN   NaT              None   \n",
      "17                M            714670053.0   NaT        21/01/2024   \n",
      "23                M            726060591.0   NaT        14/05/2024   \n",
      "31             None                    NaN   NaT              None   \n",
      "32             None                    NaN   NaT              None   \n",
      "33             None                    NaN   NaT              None   \n",
      "41                F            711130519.0   NaT        09/01/2024   \n",
      "48                F            711130519.0   NaT        09/01/2024   \n",
      "49                F            710267949.0   NaT        02/01/2024   \n",
      "60             None                    NaN   NaT              None   \n",
      "61             None                    NaN   NaT              None   \n",
      "73                M            725837882.0   NaT        13/01/2025   \n",
      "74             None                    NaN   NaT              None   \n",
      "75             None                    NaN   NaT              None   \n",
      "76             None                    NaN   NaT              None   \n",
      "82                M            711540147.0   NaT        08/11/2021   \n",
      "93             None                    NaN   NaT              None   \n",
      "94             None                    NaN   NaT              None   \n",
      "110            None                    NaN   NaT              None   \n",
      "111            None                    NaN   NaT              None   \n",
      "115               F            720781751.0   NaT        27/07/2021   \n",
      "116               M            722812281.0   NaT        26/07/2021   \n",
      "124            None                    NaN   NaT              None   \n",
      "125            None                    NaN   NaT              None   \n",
      "128               M            725762927.0   NaT        27/07/2021   \n",
      "134            None                    NaN   NaT              None   \n",
      "135            None                    NaN   NaT              None   \n",
      "142               M            721384969.0   NaT        04/01/2022   \n",
      "143               M            720781751.0   NaT        27/07/2021   \n",
      "147               M            701229250.0   NaT        25/01/2023   \n",
      "150            None                    NaN   NaT              None   \n",
      "\n",
      "     TERM_1_BALANCE  Age  \n",
      "0               0.0  NaN  \n",
      "9               NaN  NaN  \n",
      "10              NaN  NaN  \n",
      "11              NaN  NaN  \n",
      "17          16010.0  NaN  \n",
      "23              0.0  NaN  \n",
      "31              NaN  NaN  \n",
      "32              NaN  NaN  \n",
      "33              NaN  NaN  \n",
      "41              0.0  NaN  \n",
      "48              0.0  NaN  \n",
      "49              0.0  NaN  \n",
      "60              NaN  NaN  \n",
      "61              NaN  NaN  \n",
      "73          11680.0  NaN  \n",
      "74              NaN  NaN  \n",
      "75              NaN  NaN  \n",
      "76              NaN  NaN  \n",
      "82              0.0  NaN  \n",
      "93              NaN  NaN  \n",
      "94              NaN  NaN  \n",
      "110             NaN  NaN  \n",
      "111             NaN  NaN  \n",
      "115         18350.0  NaN  \n",
      "116             0.0  NaN  \n",
      "124             NaN  NaN  \n",
      "125             NaN  NaN  \n",
      "128             0.0  NaN  \n",
      "134             NaN  NaN  \n",
      "135             NaN  NaN  \n",
      "142             0.0  NaN  \n",
      "143         18350.0  NaN  \n",
      "147         12750.0  NaN  \n",
      "150          1850.0  NaN  \n"
     ]
    }
   ],
   "source": [
    "# To check for missing values in the 'D_O_B' column\n",
    "print(df[df['D_O_B'].isna()])"
   ]
  },
  {
   "cell_type": "code",
   "execution_count": 30,
   "id": "5a2c555f",
   "metadata": {},
   "outputs": [],
   "source": [
    "# Drop rows where 'D_O_B' is NaT (not a time)\n",
    "df = df.dropna(subset=['D_O_B'])"
   ]
  },
  {
   "cell_type": "code",
   "execution_count": 31,
   "id": "28347a37",
   "metadata": {},
   "outputs": [
    {
     "name": "stdout",
     "output_type": "stream",
     "text": [
      "Empty DataFrame\n",
      "Columns: [PUPILS_NAME, PUPILS_GENDER, ADM, PARENT_S_NAME, PARENT_S_GENDER, PARENT_S_PHONE_NUMBER, D_O_B, DATE_OF_ADMISSION, TERM_1_BALANCE, Age]\n",
      "Index: []\n"
     ]
    }
   ],
   "source": [
    "print(df[df['D_O_B'].isna()])"
   ]
  },
  {
   "cell_type": "code",
   "execution_count": 33,
   "id": "1f2f309d",
   "metadata": {},
   "outputs": [
    {
     "name": "stdout",
     "output_type": "stream",
     "text": [
      "                  PUPILS_NAME      D_O_B\n",
      "1      SHANICE SINONGE MINAYO 2021-11-17\n",
      "2         JAMES MATU MATHENGE 2021-10-27\n",
      "3              EZRA NYAMWEYA  2022-11-22\n",
      "4      SHANICE WANJIKU MWIHIA 2021-08-31\n",
      "5           BRILLIANT MAYIANA 2021-07-27\n",
      "..                        ...        ...\n",
      "144           BLESSING WAIGWE 2013-09-17\n",
      "145         ROY NGUMI MWENDWA 2013-11-15\n",
      "146              NAOMI WAMBUI 2024-01-15\n",
      "148     SAMUEL NDIRANGU MAINA 2014-01-21\n",
      "149  LETICIA WAIRIMU NG'ANG'A 2013-12-05\n",
      "\n",
      "[117 rows x 2 columns]\n"
     ]
    }
   ],
   "source": [
    "print(df[['PUPILS_NAME', 'D_O_B']])"
   ]
  }
 ],
 "metadata": {
  "kernelspec": {
   "display_name": "env",
   "language": "python",
   "name": "python3"
  },
  "language_info": {
   "codemirror_mode": {
    "name": "ipython",
    "version": 3
   },
   "file_extension": ".py",
   "mimetype": "text/x-python",
   "name": "python",
   "nbconvert_exporter": "python",
   "pygments_lexer": "ipython3",
   "version": "3.12.6"
  }
 },
 "nbformat": 4,
 "nbformat_minor": 5
}
